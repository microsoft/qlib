{
 "cells": [
  {
   "cell_type": "markdown",
   "id": "2f5b7ac7-95fc-4c81-ad6d-b9de6f13fa5a",
   "metadata": {},
   "source": [
    "# Intelligent Asset Allocator to build a Globally Diverse Portfolio\n",
    "Objective of this research is to build a comprehensive robo-advisory solution for portfolio optimization using Qlib framework over the ETFs listed in U.S. Market to build a globally diverse portfolio"
   ]
  },
  {
   "cell_type": "markdown",
   "id": "9b162019-1e67-4971-bfbf-eba3ce1be6a2",
   "metadata": {},
   "source": [
    "### Install Pre-requsites"
   ]
  },
  {
   "cell_type": "markdown",
   "id": "f96641a5-2cd4-44fa-8e25-5a189f9f5185",
   "metadata": {},
   "source": [
    "%pip install --upgrade pip"
   ]
  },
  {
   "cell_type": "markdown",
   "id": "ef926807-2ffe-4e13-9937-ccb5634a7614",
   "metadata": {},
   "source": [
    "%pip install --upgrade numpy"
   ]
  },
  {
   "cell_type": "markdown",
   "id": "dd1431c2-905b-4ef1-a53c-f5c0eafa3f46",
   "metadata": {},
   "source": [
    "%pip install --upgrade pandas"
   ]
  },
  {
   "cell_type": "markdown",
   "id": "612ae864-9656-4fe9-94a7-898b904f97be",
   "metadata": {},
   "source": [
    "%pip install --upgrade cython"
   ]
  },
  {
   "cell_type": "markdown",
   "id": "24cfd613-2f17-4c52-a0a6-bd9c6d75ff07",
   "metadata": {},
   "source": [
    "%pip install --upgrade xgboost"
   ]
  },
  {
   "cell_type": "markdown",
   "id": "1b6d69da-0d0a-475f-8b55-4c816a6dad6d",
   "metadata": {},
   "source": [
    "%pip install --upgrade catboost"
   ]
  },
  {
   "cell_type": "markdown",
   "id": "e17720ce-364d-46a8-a539-7f552e26811e",
   "metadata": {},
   "source": [
    "%pip install --upgrade torch"
   ]
  },
  {
   "cell_type": "markdown",
   "id": "349fe3e3-31af-4a33-9107-e8f2930b0cda",
   "metadata": {},
   "source": [
    "%pip install --upgrade matplotlib"
   ]
  },
  {
   "cell_type": "markdown",
   "id": "aa3eed96-9d15-460b-ac29-6259a7a100a7",
   "metadata": {},
   "source": [
    "%pip install ../../"
   ]
  },
  {
   "cell_type": "markdown",
   "id": "e2924654-39ed-4477-9620-d1768c38bc7b",
   "metadata": {},
   "source": [
    "### Download the getdata script from microsoft/qlib repository"
   ]
  },
  {
   "cell_type": "code",
   "execution_count": null,
   "id": "9ab8de00-45b8-4bda-be73-4e4cd0e23d8f",
   "metadata": {},
   "outputs": [],
   "source": [
    "import sys, site\n",
    "from pathlib import Path\n",
    "\n",
    "scripts_dir = Path.cwd().parent.joinpath(\"scripts\")\n",
    "if not scripts_dir.joinpath(\"get_data.py\").exists():\n",
    "    # download get_data.py script\n",
    "    scripts_dir = Path(\"~/tmp/qlib_code/scripts\").expanduser().resolve()\n",
    "    scripts_dir.mkdir(parents=True, exist_ok=True)\n",
    "    import requests\n",
    "    with requests.get(\"https://raw.githubusercontent.com/microsoft/qlib/main/scripts/get_data.py\") as resp:\n",
    "        with open(scripts_dir.joinpath(\"get_data.py\"), \"wb\") as fp:\n",
    "            fp.write(resp.content)"
   ]
  },
  {
   "cell_type": "markdown",
   "id": "30d54a09-e2d3-42dc-a7a0-86e50e04e0d6",
   "metadata": {},
   "source": [
    "### Download U.S. Market data from Yahoo Finance using Qlib Data Collector"
   ]
  },
  {
   "cell_type": "code",
   "execution_count": null,
   "id": "ce92d3e4-d646-44b4-8038-f999c6ad23a1",
   "metadata": {},
   "outputs": [],
   "source": [
    "import sys, site \n",
    "from pathlib import Path\n",
    "import qlib \n",
    "\n",
    "provider_uri = \"~/.qlib/qlib_data/us_data\"  # target_dir\n",
    "sys.path.append(str(scripts_dir))\n",
    "from get_data import GetData\n",
    "GetData().qlib_data(target_dir=provider_uri, region='us', delete_old=False, exists_skip=True)"
   ]
  },
  {
   "cell_type": "markdown",
   "id": "646a2f48-6f46-4476-a8eb-36894189dbea",
   "metadata": {},
   "source": [
    "### Initialize Qlib with data downloaded "
   ]
  },
  {
   "cell_type": "code",
   "execution_count": 1,
   "id": "36eca516-f298-4d6b-8570-30c6e461152e",
   "metadata": {},
   "outputs": [
    {
     "name": "stderr",
     "output_type": "stream",
     "text": [
      "[1289:MainThread](2022-11-09 01:09:43,643) INFO - qlib.Initialization - [config.py:413] - default_conf: client.\n",
      "[1289:MainThread](2022-11-09 01:09:43,940) INFO - qlib.workflow - [expm.py:31] - experiment manager uri is at file:/home/studio-lab-user/qlib/qlib/examples/global_opportunity/mlruns\n",
      "[1289:MainThread](2022-11-09 01:09:43,941) INFO - qlib.Initialization - [__init__.py:74] - qlib successfully initialized based on client settings.\n",
      "[1289:MainThread](2022-11-09 01:09:43,942) INFO - qlib.Initialization - [__init__.py:76] - data_path={'__DEFAULT_FREQ': PosixPath('/home/studio-lab-user/.qlib/qlib_data/v2/us_data')}\n"
     ]
    }
   ],
   "source": [
    "import qlib \n",
    "provider_uri = \"~/.qlib/qlib_data/v2/us_data\"  # target_dir\n",
    "qlib.init(provider_uri=provider_uri, region='us')"
   ]
  },
  {
   "cell_type": "markdown",
   "id": "49c67fc2-0085-493c-9c86-b4689ea9668e",
   "metadata": {},
   "source": [
    "### Setup Control Parameters"
   ]
  },
  {
   "cell_type": "code",
   "execution_count": 2,
   "id": "b4b3ffef-6e23-4d7d-a453-2f772bf6b7a6",
   "metadata": {},
   "outputs": [],
   "source": [
    "market = \"all\"\n",
    "benchmark = \"SPY\"\n",
    "filter_instruments = \"^(GLD|SHV|HYG|AGG|BNDX|NFTY|EWZ|EWJ|ASHR|VGK|EWS|EWA|VNQ|PDBC|PXE|IRBO|BITQ|UVXY|DOG|HDGE)$\"\n",
    "filter_start_time = \"2007-01-01\"\n",
    "filter_end_time = \"2022-10-01\"\n",
    "fit_start_time = \"2007-01-01\"\n",
    "fit_end_time = \"2015-12-31\"\n",
    "val_start_time = \"2016-01-01\"\n",
    "val_end_time = \"2018-12-31\"\n",
    "test_start_time = \"2019-01-01\"\n",
    "test_end_time = \"2022-10-01\"\n",
    "\n",
    "\n",
    "inputSize = 158\n",
    "datasetClass = \"Alpha158\" #  \"Alpha360\""
   ]
  },
  {
   "cell_type": "markdown",
   "id": "0429bbef-2655-4967-aa08-ae435a3c5457",
   "metadata": {},
   "source": [
    "### Prepare the model by training with the filter data"
   ]
  },
  {
   "cell_type": "code",
   "execution_count": null,
   "id": "775fabbc-1af4-4053-8a9b-e79902cd8c8d",
   "metadata": {},
   "outputs": [],
   "source": [
    "from qlib.utils import exists_qlib_data, init_instance_by_config\n",
    "from qlib.utils import flatten_dict\n",
    "from qlib.workflow import R\n",
    "\n",
    "task = {\n",
    "    \"model\": {\n",
    "        \"class\": \"LGBModel\",\n",
    "        \"module_path\": \"qlib.contrib.model.gbdt\",\n",
    "        \"kwargs\": {\n",
    "            \"loss\": \"mse\",\n",
    "            \"colsample_bytree\": 0.8879,\n",
    "            \"learning_rate\": 0.0421,\n",
    "            \"subsample\": 0.8789,\n",
    "            \"lambda_l1\": 205.6999,\n",
    "            \"lambda_l2\": 580.9768,\n",
    "            \"max_depth\": 8,\n",
    "            \"num_leaves\": 210,\n",
    "            \"num_threads\": 20,\n",
    "        },\n",
    "    },\n",
    "    \"dataset\": {\n",
    "        \"class\": \"DatasetH\",\n",
    "        \"module_path\": \"qlib.data.dataset\",\n",
    "        \"kwargs\": {\n",
    "            \"handler\": {\n",
    "                \"class\": datasetClass,\n",
    "                \"module_path\": \"qlib.contrib.data.handler\",\n",
    "                \"kwargs\": {\n",
    "                    \"start_time\": filter_start_time,\n",
    "                    \"end_time\": filter_end_time,\n",
    "                    \"fit_start_time\": fit_start_time,\n",
    "                    \"fit_end_time\": fit_end_time,\n",
    "                    \"instruments\": market,\n",
    "                    \"filter_pipe\": [{\n",
    "                        \"filter_type\": \"NameDFilter\",\n",
    "                        \"name_rule_re\": filter_instruments,\n",
    "                        \"filter_start_time\": filter_start_time,\n",
    "                        \"filter_end_time\": filter_end_time,\n",
    "                    }],\n",
    "                    \"infer_processors\":[{\n",
    "                        \"class\": \"RobustZScoreNorm\",\n",
    "                        \"kwargs\": {\n",
    "                            \"fields_group\": \"feature\",\n",
    "                            \"clip_outlier\": \"true\"\n",
    "                        }},\n",
    "                        {\n",
    "                        \"class\": \"Fillna\",\n",
    "                        \"kwargs\": {\n",
    "                            \"fields_group\": \"feature\"\n",
    "                        }}],\n",
    "                    \"learn_processors\":[{\n",
    "                        \"class\": \"CSRankNorm\",\n",
    "                        \"kwargs\":{\n",
    "                              \"fields_group\": \"label\"\n",
    "                        }\n",
    "                        }],\n",
    "                     \"label\": [\"Ref($close, -2) / Ref($close, -1) - 1\"]\n",
    "                },\n",
    "            },\n",
    "            \"segments\": {\n",
    "                \"train\": (fit_start_time, fit_end_time),\n",
    "                \"valid\": (val_start_time, val_end_time),\n",
    "                \"test\": (test_start_time, test_end_time)\n",
    "            },\n",
    "        },\n",
    "    },\n",
    "}\n",
    "\n",
    "\n",
    "tra_task = {\n",
    "  \"model\": {\n",
    "     \"class\": \"TRAModel\",\n",
    "     \"module_path\": \"qlib.contrib.model.pytorch_tra\",\n",
    "     \"kwargs\": {\n",
    "        \"tra_config\": {\n",
    "              \"num_states\": 3,\n",
    "              \"rnn_arch\": \"LSTM\",\n",
    "              \"hidden_size\": 32,\n",
    "              \"num_layers\": 1,\n",
    "              \"dropout\": 0.0,\n",
    "              \"tau\": 1.0,\n",
    "              \"src_info\": \"LR_TPE\",\n",
    "        },\n",
    "        \"model_config\": {\n",
    "              \"input_size\": inputSize,\n",
    "              \"hidden_size\": 256,\n",
    "              \"num_layers\": 2,\n",
    "              \"rnn_arch\": \"LSTM\",\n",
    "              \"use_attn\": True,\n",
    "              \"dropout\": 0.2,\n",
    "        },\n",
    "        \"model_type\": \"RNN\",\n",
    "        \"lr\": 0.0001,\n",
    "        \"n_epochs\": 100,\n",
    "        \"early_stop\": 20,\n",
    "        \"logdir\": \"output_tra\",\n",
    "        \"seed\": 0,\n",
    "        \"lamb\": 1.0,\n",
    "        \"rho\": 0.99,\n",
    "        \"alpha\": 0.5,\n",
    "        \"transport_method\": \"router\",\n",
    "        \"memory_mode\": \"sample\",\n",
    "        \"eval_train\": False,\n",
    "        \"eval_test\": True,\n",
    "        \"pretrain\": True,\n",
    "        \"freeze_model\": False,\n",
    "        \"freeze_predictors\": False,\n",
    "     }\n",
    "  },\n",
    "  \"dataset\": {\n",
    "     \"class\": \"MTSDatasetH\",\n",
    "     \"module_path\": \"qlib.contrib.data.dataset\",\n",
    "      \"kwargs\": {\n",
    "            \"handler\": {\n",
    "                \"class\": datasetClass,\n",
    "                \"module_path\": \"qlib.contrib.data.handler\",\n",
    "                \"kwargs\": {\n",
    "                    \"start_time\": filter_start_time,\n",
    "                    \"end_time\": filter_end_time,\n",
    "                    \"fit_start_time\": fit_start_time,\n",
    "                    \"fit_end_time\": fit_end_time,\n",
    "                    \"instruments\": market,\n",
    "                    \"filter_pipe\": [{\n",
    "                        \"filter_type\": \"NameDFilter\",\n",
    "                        \"name_rule_re\": filter_instruments,\n",
    "                        \"filter_start_time\": filter_start_time,\n",
    "                        \"filter_end_time\": filter_end_time,\n",
    "                    }],\n",
    "                    \"infer_processors\":[{\n",
    "                        \"class\": \"RobustZScoreNorm\",\n",
    "                        \"kwargs\": {\n",
    "                            \"fields_group\": \"feature\",\n",
    "                            \"clip_outlier\": \"true\"\n",
    "                        }},\n",
    "                        {\n",
    "                        \"class\": \"Fillna\",\n",
    "                        \"kwargs\": {\n",
    "                            \"fields_group\": \"feature\"\n",
    "                        }}],\n",
    "                    \"learn_processors\":[{\n",
    "                        \"class\": \"CSRankNorm\",\n",
    "                        \"kwargs\":{\n",
    "                              \"fields_group\": \"label\"\n",
    "                        }\n",
    "                        }],\n",
    "                     \"label\": [\"Ref($close, -2) / Ref($close, -1) - 1\"]\n",
    "                },\n",
    "            },\n",
    "            \"segments\": {\n",
    "                \"train\": (fit_start_time, fit_end_time),\n",
    "                \"valid\": (val_start_time, val_end_time),\n",
    "                \"test\": (test_start_time, test_end_time)\n",
    "            },\n",
    "         \"seq_len\": 60,\n",
    "         \"horizon\": 2,\n",
    "         \"num_states\": 5,\n",
    "         \"batch_size\": 1024,\n",
    "         \"memory_mode\": \"sample\",\n",
    "         \"drop_last\": True,\n",
    "      }\n",
    "    }\n",
    "}\n",
    "\n",
    "# model initiaiton\n",
    "model = init_instance_by_config(task[\"model\"])\n",
    "dataset = init_instance_by_config(task[\"dataset\"])\n",
    "\n",
    "# start exp to train model\n",
    "with R.start(experiment_name=\"train_model\"):\n",
    "    R.log_params(**flatten_dict(task))\n",
    "    model.fit(dataset)\n",
    "    R.save_objects(trained_model=model)\n",
    "    rid = R.get_recorder().id"
   ]
  },
  {
   "cell_type": "markdown",
   "id": "be4cbfc0-857e-43ba-b7e0-6ba0e2cef05a",
   "metadata": {},
   "source": [
    "### Backtest the model and prepare the statistics"
   ]
  },
  {
   "cell_type": "code",
   "execution_count": null,
   "id": "28294333-93d0-42c5-8e85-2c1bdb07321a",
   "metadata": {},
   "outputs": [],
   "source": [
    "from qlib.workflow.record_temp import SignalRecord, PortAnaRecord\n",
    "\n",
    "topk_strategy =  {\n",
    "        \"class\": \"TopkDropoutStrategy\",\n",
    "        \"module_path\": \"qlib.contrib.strategy.signal_strategy\",\n",
    "        \"kwargs\": {\n",
    "            \"model\": model,\n",
    "            \"dataset\": dataset,\n",
    "            \"topk\": 9,\n",
    "            \"n_drop\": 2,\n",
    "    }\n",
    "}\n",
    "\n",
    "enhanced_index_strategy =  {\n",
    "        \"class\": \"EnhancedIndexingStrategy\",\n",
    "        \"module_path\": \"qlib.contrib.strategy.signal_strategy\",\n",
    "        \"kwargs\": {\n",
    "            \"model\": model,\n",
    "            \"dataset\": dataset,\n",
    "            \"riskmodel_root\": \"./riskdata\",\n",
    "            \"market\": benchmark,\n",
    "            \"optimizer_kwargs\": {\n",
    "                \"solver_kwargs\" : {\n",
    "                    \"verbose\" : \"true\"\n",
    "                }\n",
    "            }\n",
    "    }\n",
    "}\n",
    "\n",
    "port_analysis_config = {\n",
    "    \"executor\": {\n",
    "        \"class\": \"SimulatorExecutor\",\n",
    "        \"module_path\": \"qlib.backtest.executor\",\n",
    "        \"kwargs\": {\n",
    "            \"time_per_step\": \"day\",\n",
    "            \"generate_portfolio_metrics\": True,\n",
    "        },\n",
    "    },\n",
    "    \"strategy\": topk_strategy,\n",
    "    \"backtest\": {\n",
    "        \"start_time\": test_start_time,\n",
    "        \"end_time\": test_end_time,\n",
    "        \"account\": 100000000,\n",
    "        \"benchmark\": benchmark,\n",
    "        \"exchange_kwargs\": {\n",
    "            \"freq\": \"day\",\n",
    "            \"limit_threshold\": 0.095,\n",
    "            \"deal_price\": \"close\",\n",
    "            \"open_cost\": 0.0005,\n",
    "            \"close_cost\": 0.0015,\n",
    "            \"min_cost\": 5,\n",
    "        },\n",
    "    },\n",
    "}\n",
    "\n",
    "# backtest and analysis\n",
    "with R.start(experiment_name=\"backtest_analysis\"):\n",
    "    recorder = R.get_recorder(recorder_id=rid, experiment_name=\"train_model\")\n",
    "    model = recorder.load_object(\"trained_model\")\n",
    "\n",
    "    # prediction\n",
    "    recorder = R.get_recorder()\n",
    "    ba_rid = recorder.id\n",
    "    sr = SignalRecord(model, dataset, recorder)\n",
    "    sr.generate()\n",
    "\n",
    "    # backtest & analysis\n",
    "    par = PortAnaRecord(recorder, port_analysis_config, \"day\")\n",
    "    par.generate()\n"
   ]
  },
  {
   "cell_type": "markdown",
   "id": "9db895d1-aac4-4120-9648-8b8921c85f75",
   "metadata": {},
   "source": [
    "### Analysis the statitics"
   ]
  },
  {
   "cell_type": "code",
   "execution_count": null,
   "id": "8ff3657c-a33c-4e95-b290-5ba22c79ee0e",
   "metadata": {},
   "outputs": [],
   "source": [
    "from qlib.utils import flatten_dict\n",
    "from qlib.workflow import R\n",
    "from qlib.contrib.report import analysis_model, analysis_position\n",
    "from qlib.data import D\n",
    "recorder = R.get_recorder(recorder_id=ba_rid, experiment_name=\"backtest_analysis\")\n",
    "\n",
    "pred_df = recorder.load_object(\"pred.pkl\")\n",
    "report_normal_df = recorder.load_object(\"portfolio_analysis/report_normal_1day.pkl\")\n",
    "positions = recorder.load_object(\"portfolio_analysis/positions_normal_1day.pkl\")\n",
    "analysis_df = recorder.load_object(\"portfolio_analysis/port_analysis_1day.pkl\")"
   ]
  },
  {
   "cell_type": "code",
   "execution_count": null,
   "id": "acbcedf9-6f95-48ba-aa2f-cdf038d21e93",
   "metadata": {},
   "outputs": [],
   "source": [
    "analysis_position.report_graph(report_normal_df)"
   ]
  },
  {
   "cell_type": "code",
   "execution_count": null,
   "id": "bf2bee3b-2118-42d4-bd62-7a7f38d3bc59",
   "metadata": {},
   "outputs": [],
   "source": [
    "analysis_position.risk_analysis_graph(analysis_df, report_normal_df)"
   ]
  },
  {
   "cell_type": "code",
   "execution_count": null,
   "id": "290613f6-97a9-4354-b8c1-784999ae6ce2",
   "metadata": {},
   "outputs": [],
   "source": [
    "import pandas as pd\n",
    "\n",
    "label_df = dataset.prepare(\"test\", col_set=\"label\")\n",
    "label_df.columns = ['label']\n",
    "pred_label = pd.concat([label_df, pred_df], axis=1, sort=True).reindex(label_df.index)\n",
    "analysis_position.score_ic_graph(pred_label)"
   ]
  },
  {
   "cell_type": "code",
   "execution_count": null,
   "id": "a9892ed2-2e9b-4597-ad7b-36b758e5ac9d",
   "metadata": {},
   "outputs": [],
   "source": [
    "analysis_model.model_performance_graph(pred_label)"
   ]
  },
  {
   "cell_type": "markdown",
   "id": "5db356f4-a4da-4a1d-9756-98da9d2e7c41",
   "metadata": {},
   "source": [
    "*"
   ]
  },
  {
   "cell_type": "markdown",
   "id": "5916074a-1225-433a-af98-03cabbd5aac1",
   "metadata": {},
   "source": [
    "*"
   ]
  },
  {
   "cell_type": "markdown",
   "id": "5b6eb787-4d77-4882-9c70-60dc759b426d",
   "metadata": {},
   "source": [
    "*"
   ]
  },
  {
   "cell_type": "markdown",
   "id": "af88cff2-98e1-48f9-9c82-e9d0778fa7fc",
   "metadata": {},
   "source": [
    "# ---------------------------------------- END -------------------------------------------- ####"
   ]
  }
 ],
 "metadata": {
  "kernelspec": {
   "display_name": "default:Python",
   "language": "python",
   "name": "conda-env-default-py"
  },
  "language_info": {
   "codemirror_mode": {
    "name": "ipython",
    "version": 3
   },
   "file_extension": ".py",
   "mimetype": "text/x-python",
   "name": "python",
   "nbconvert_exporter": "python",
   "pygments_lexer": "ipython3",
   "version": "3.9.13"
  }
 },
 "nbformat": 4,
 "nbformat_minor": 5
}
