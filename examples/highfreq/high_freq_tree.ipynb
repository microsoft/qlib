{
 "cells": [
  {
   "cell_type": "code",
   "execution_count": null,
   "metadata": {},
   "outputs": [],
   "source": [
    "#  Copyright (c) Microsoft Corporation.\n",
    "#  Licensed under the MIT License.\n",
    "import qlib\n",
    "import os\n",
    "import random\n",
    "import pandas as pd\n",
    "import numpy as np\n",
    "from multiprocessing import Pool\n",
    "from qlib.config import REG_CN, HIGH_FREQ_CONFIG\n",
    "from qlib.contrib.model.gbdt import LGBModel\n",
    "from qlib.contrib.data.handler import Alpha158\n",
    "from qlib.contrib.strategy.strategy import TopkDropoutStrategy\n",
    "from qlib.contrib.evaluate import (\n",
    "    backtest as normal_backtest,\n",
    "    risk_analysis,\n",
    ")\n",
    "from qlib.utils import exists_qlib_data, init_instance_by_config\n",
    "from qlib.workflow import R\n",
    "from qlib.data import D\n",
    "from qlib.data.filter import NameDFilter\n",
    "from qlib.workflow.record_temp import SignalRecord, PortAnaRecord\n",
    "from qlib.data.dataset.handler import DataHandlerLP\n",
    "from qlib.utils import flatten_dict\n",
    "import lightgbm as lgb"
   ]
  },
  {
   "cell_type": "markdown",
   "metadata": {},
   "source": [
    "# Qlib configuration"
   ]
  },
  {
   "cell_type": "code",
   "execution_count": null,
   "metadata": {},
   "outputs": [],
   "source": [
    "QLIB_INIT_CONFIG = {**HIGH_FREQ_CONFIG}\n",
    "qlib.init(**QLIB_INIT_CONFIG)\n",
    "instruments = D.instruments(market='all')\n",
    "random.seed(710)\n",
    "instruments = D.list_instruments(instruments=instruments, freq = '1min', as_list=True)\n",
    "# Randomly select instruments to boost the training efficiency\n",
    "instruments = random.sample(instruments, 150)"
   ]
  },
  {
   "cell_type": "markdown",
   "metadata": {},
   "source": [
    "# train model configuration\n"
   ]
  },
  {
   "cell_type": "code",
   "execution_count": null,
   "metadata": {},
   "outputs": [],
   "source": [
    "MARKET = 'ALL'\n",
    "BENCHMARK = \"SH000300\"\n",
    "\n",
    "start_time = \"2020-09-15 00:00:00\"\n",
    "end_time = \"2021-01-18 16:00:00\"\n",
    "train_end_time = \"2020-11-15 16:00:00\"\n",
    "valid_start_time = \"2020-11-16 00:00:00\"\n",
    "valid_end_time = \"2020-11-30 16:00:00\"\n",
    "test_start_time = \"2020-12-01 00:00:00\"\n",
    "\n",
    "data_handler_config = {\n",
    "    \"start_time\": start_time,\n",
    "    \"end_time\": end_time,\n",
    "    \"fit_start_time\": start_time,\n",
    "    \"fit_end_time\": train_end_time,\n",
    "    \"freq\": \"1min\",\n",
    "    \"instruments\": instruments,\n",
    "    \"learn_processors\":[\n",
    "        {\"class\": \"DropnaLabel\"}\n",
    "    ],\n",
    "    \"infer_processors\": [         \n",
    "        {\"class\": \"RobustZScoreNorm\",\n",
    "        \"kwargs\": {\n",
    "            \"fields_group\": \"feature\",\n",
    "            \"clip_outlier\": True,\n",
    "        }},\n",
    "        {\"class\": \"Fillna\",\n",
    "         \"kwargs\": {\n",
    "             \"fields_group\": \"feature\",\n",
    "         }},],\n",
    "    \"label\": [\"Ref($close, -1) / $close - 1\"],\n",
    "}\n",
    "\n",
    "\n",
    "task = {\n",
    "    \"model\": {\n",
    "        \"class\": \"HF_LGBModel\",\n",
    "        \"module_path\": \"highfreq_gdbt_model.py\",\n",
    "        \"kwargs\": {\n",
    "            \"objective\": 'binary', \n",
    "            \"metric\": ['binary_logloss','auc'],\n",
    "            \"verbosity\": -1,\n",
    "            \"learning_rate\": 0.01,\n",
    "            \"max_depth\": 8,\n",
    "            \"num_leaves\": 150, \n",
    "            \"lambda_l1\": 1.5,\n",
    "            \"lambda_l2\": 1,\n",
    "            \"num_threads\": 20\n",
    "        },\n",
    "    },\n",
    "    \"dataset\": {\n",
    "        \"class\": \"DatasetH\",\n",
    "        \"module_path\": \"qlib.data.dataset\",\n",
    "        \"kwargs\": {\n",
    "            \"handler\": {\n",
    "                \"class\": \"Alpha158\",\n",
    "                \"module_path\": \"qlib.contrib.data.handler\",\n",
    "                \"kwargs\": data_handler_config,\n",
    "            },\n",
    "            \"segments\": {\n",
    "                \"train\": (start_time, train_end_time),\n",
    "                \"valid\": (train_end_time, valid_end_time),\n",
    "                \"test\": (\n",
    "                    test_start_time,\n",
    "                    end_time,\n",
    "                ),\n",
    "            },\n",
    "        },\n",
    "    },\n",
    "}\n",
    "\n",
    "provider_uri = QLIB_INIT_CONFIG.get(\"provider_uri\")\n",
    "if not exists_qlib_data(provider_uri):\n",
    "    print(f\"Qlib data is not found in {provider_uri}\")\n",
    "    GetData().qlib_data(target_dir=provider_uri, interval=\"1min\", region=REG_CN)\n",
    "\n",
    "dataset = init_instance_by_config(task[\"dataset\"])\n",
    "model = init_instance_by_config(task[\"model\"])"
   ]
  },
  {
   "cell_type": "markdown",
   "metadata": {},
   "source": [
    "# train model and back test\n"
   ]
  },
  {
   "cell_type": "code",
   "execution_count": null,
   "metadata": {},
   "outputs": [],
   "source": [
    "# start exp to train model with signal test\n",
    "with R.start(experiment_name=\"train_model\"):\n",
    "    R.log_params(**flatten_dict(task))\n",
    "    model.fit(dataset)\n",
    "    model.hf_signal_test(dataset, 0.1)"
   ]
  }
 ],
 "metadata": {
  "kernelspec": {
   "display_name": "Python [conda env:trade]",
   "language": "python",
   "name": "conda-env-trade-py"
  },
  "language_info": {
   "codemirror_mode": {
    "name": "ipython",
    "version": 3
   },
   "file_extension": ".py",
   "mimetype": "text/x-python",
   "name": "python",
   "nbconvert_exporter": "python",
   "pygments_lexer": "ipython3",
   "version": "3.8.5"
  }
 },
 "nbformat": 4,
 "nbformat_minor": 4
}
