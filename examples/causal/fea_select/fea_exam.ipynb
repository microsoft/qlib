{
 "cells": [
  {
   "cell_type": "code",
   "execution_count": null,
   "id": "79ef66a1",
   "metadata": {},
   "outputs": [],
   "source": [
    "# Copyright (c) Microsoft Corporation.\n",
    "# Licensed under the MIT License.\n",
    "import io\n",
    "from dowhy import CausalModel\n",
    "import pandas as pd\n",
    "import numpy as np\n",
    "import qlib\n",
    "from qlib.utils import init_instance_by_config\n",
    "from tqdm.auto import tqdm\n",
    "import yaml\n",
    "qlib.init()"
   ]
  },
  {
   "cell_type": "code",
   "execution_count": null,
   "id": "ea1e71cf",
   "metadata": {},
   "outputs": [],
   "source": [
    "# DATASET = \"Alpha158\"\n",
    "DATASET = \"Alpha360\"\n",
    "PRICE = 'CLOSE'"
   ]
  },
  {
   "cell_type": "code",
   "execution_count": null,
   "id": "9cca1f69",
   "metadata": {},
   "outputs": [],
   "source": [
    "np.random.seed(42)  # for get consistant result"
   ]
  },
  {
   "cell_type": "code",
   "execution_count": null,
   "id": "6d366fe1",
   "metadata": {
    "lines_to_next_cell": 2
   },
   "outputs": [],
   "source": [
    "# 1) loading data\n",
    "conf = f\"\"\"\n",
    "class: {DATASET}\n",
    "module_path: qlib.contrib.data.handler\n",
    "kwargs:\n",
    "    start_time: 2008-01-01\n",
    "    end_time: 2020-08-01\n",
    "    fit_start_time: 2008-01-01\n",
    "    fit_end_time: 2014-12-31\n",
    "    instruments: csi300\n",
    "    infer_processors:\n",
    "        - class: RobustZScoreNorm\n",
    "          kwargs:\n",
    "              fields_group: feature\n",
    "              clip_outlier: true\n",
    "        - class: Fillna\n",
    "          kwargs:\n",
    "              fields_group: feature\n",
    "    learn_processors:\n",
    "        - class: DropnaLabel\n",
    "        - class: CSRankNorm\n",
    "          kwargs:\n",
    "              fields_group: label\n",
    "\"\"\"\n",
    "hconf = yaml.safe_load(io.StringIO(conf))\n",
    "hd = init_instance_by_config(hconf)"
   ]
  },
  {
   "cell_type": "code",
   "execution_count": null,
   "id": "07c8a401",
   "metadata": {
    "lines_to_next_cell": 2
   },
   "outputs": [],
   "source": [
    "df = hd.fetch(slice(\"2008-01-01\", \"2014-12-31\"), data_key=hd.DK_L)\n",
    "df = df.loc[:, df.columns.str.contains(f'{PRICE}|LABEL')]"
   ]
  },
  {
   "cell_type": "code",
   "execution_count": null,
   "id": "b53993b8",
   "metadata": {
    "lines_to_next_cell": 2
   },
   "outputs": [],
   "source": [
    "df.columns[df.std() < 0.2]  # have no vwap"
   ]
  },
  {
   "cell_type": "code",
   "execution_count": null,
   "id": "63c66def",
   "metadata": {},
   "outputs": [],
   "source": [
    "# Outcome\n",
    "LABEL = \"LABEL0\""
   ]
  },
  {
   "cell_type": "markdown",
   "id": "5b3848c7",
   "metadata": {},
   "source": [
    "# Explain feature"
   ]
  },
  {
   "cell_type": "markdown",
   "id": "88ff8ee9",
   "metadata": {},
   "source": [
    "## causality"
   ]
  },
  {
   "cell_type": "code",
   "execution_count": null,
   "id": "2812675f",
   "metadata": {},
   "outputs": [],
   "source": [
    "def estimate_causal(df, col, label=\"LABEL0\"):\n",
    "    # Building the causal graph;\n",
    "    n = int(col.lstrip(PRICE))\n",
    "    common_causes = [col for col in df.columns[~df.columns.isin([col, label])].to_list() if int(col.lstrip(PRICE)) < n]\n",
    "    \n",
    "    # print(col, label, common_causes)\n",
    "    model = CausalModel(data=df, treatment=col, outcome=label, common_causes=common_causes)\n",
    "    # https://github.com/microsoft/dowhy/issues/261\n",
    "    # - identify_effec is really slow;  So we have to change the method to make it faster\n",
    "    identified_estimand = model.identify_effect(proceed_when_unidentifiable=True, method_name=\"maximal-adjustment\")\n",
    "\n",
    "    estimate = model.estimate_effect(identified_estimand, method_name=\"backdoor.linear_regression\")\n",
    "    print(\"Causal Estimate is \" + str(estimate.value))\n",
    "    return estimate.value"
   ]
  },
  {
   "cell_type": "code",
   "execution_count": null,
   "id": "f24de51b",
   "metadata": {},
   "outputs": [],
   "source": [
    "# causal calculation is often slow. So multiprocessing is used.\n",
    "from joblib import Parallel, delayed\n",
    "import multiprocessing as mp"
   ]
  },
  {
   "cell_type": "code",
   "execution_count": null,
   "id": "325c77a0",
   "metadata": {},
   "outputs": [],
   "source": [
    "keys = []\n",
    "res = []\n",
    "for col in tqdm(df.columns):\n",
    "    if col == LABEL:  # skip label\n",
    "        continue\n",
    "    keys.append(col)\n",
    "    res.append(delayed(estimate_causal)(df, col))\n",
    "res = Parallel(n_jobs= max(1, mp.cpu_count() // 2), verbose=10)(res)"
   ]
  },
  {
   "cell_type": "code",
   "execution_count": null,
   "id": "b660faef",
   "metadata": {},
   "outputs": [],
   "source": [
    "cause_dict = dict(zip(keys, res))"
   ]
  },
  {
   "cell_type": "code",
   "execution_count": null,
   "id": "6134ae61",
   "metadata": {},
   "outputs": [],
   "source": [
    "cause_s = pd.Series(cause_dict)\n",
    "cause_s_top = cause_s.reindex(cause_s.abs().nlargest(10).index)"
   ]
  },
  {
   "cell_type": "code",
   "execution_count": null,
   "id": "3095ecb7",
   "metadata": {},
   "outputs": [],
   "source": [
    "cause_s_top.to_frame('causal effect')"
   ]
  },
  {
   "cell_type": "markdown",
   "id": "73bc5eb0",
   "metadata": {},
   "source": [
    "##  SHAP"
   ]
  },
  {
   "cell_type": "code",
   "execution_count": null,
   "id": "ce756c5c",
   "metadata": {},
   "outputs": [],
   "source": [
    "import lightgbm as lgb\n",
    "import shap\n",
    "X, y = df.loc[:, ~df.columns.isin([LABEL])], df[LABEL]"
   ]
  },
  {
   "cell_type": "code",
   "execution_count": null,
   "id": "5859940f",
   "metadata": {},
   "outputs": [],
   "source": [
    "model = lgb.train({\"objective\": \"mse\"}, train_set=lgb.Dataset(X, label=y))"
   ]
  },
  {
   "cell_type": "code",
   "execution_count": null,
   "id": "5eaaae45",
   "metadata": {},
   "outputs": [],
   "source": [
    "explainer = shap.Explainer(model)\n",
    "shap_values = explainer(X)"
   ]
  },
  {
   "cell_type": "code",
   "execution_count": null,
   "id": "05292978",
   "metadata": {
    "lines_to_next_cell": 2
   },
   "outputs": [],
   "source": [
    "shap_s = pd.Series(shap_values.values.mean(axis=0), index=df.columns[~df.columns.isin([LABEL])])"
   ]
  },
  {
   "cell_type": "code",
   "execution_count": null,
   "id": "030b2d08",
   "metadata": {},
   "outputs": [],
   "source": [
    "shap_s_top = shap_s.reindex(shap_s.abs().nlargest(10).index)"
   ]
  },
  {
   "cell_type": "code",
   "execution_count": null,
   "id": "a3360de8",
   "metadata": {},
   "outputs": [],
   "source": [
    "shap_s_top.to_frame(\"avg SHAP values\")"
   ]
  },
  {
   "cell_type": "markdown",
   "id": "207edff5",
   "metadata": {
    "lines_to_next_cell": 2
   },
   "source": [
    "## Compare"
   ]
  },
  {
   "cell_type": "code",
   "execution_count": null,
   "id": "1ca0a4ab",
   "metadata": {},
   "outputs": [],
   "source": [
    "import numpy as np\n",
    "import pandas as pd\n",
    "import matplotlib.pyplot as plt\n",
    "import seaborn as sns; sns.set_theme(color_codes=True)"
   ]
  },
  {
   "cell_type": "code",
   "execution_count": null,
   "id": "5338f343",
   "metadata": {},
   "outputs": [],
   "source": [
    "sns.regplot(x=\"causal\", y=\"SHAP\", data=pd.DataFrame({'causal': cause_s, 'SHAP': shap_s}))\n",
    "plt.show()"
   ]
  },
  {
   "cell_type": "markdown",
   "id": "6e463dd1",
   "metadata": {},
   "source": [
    "# Select and Train models"
   ]
  },
  {
   "cell_type": "code",
   "execution_count": null,
   "id": "2e30f72e",
   "metadata": {},
   "outputs": [],
   "source": [
    "exp_name = \"fea_select\""
   ]
  },
  {
   "cell_type": "code",
   "execution_count": null,
   "id": "4ad1338f",
   "metadata": {},
   "outputs": [],
   "source": [
    "from copy import deepcopy\n",
    "from qlib.model.trainer import task_train\n",
    "import ruamel.yaml as yaml"
   ]
  },
  {
   "cell_type": "code",
   "execution_count": null,
   "id": "327de202",
   "metadata": {},
   "outputs": [],
   "source": [
    "with open(f\"../../benchmarks/LightGBM/workflow_config_lightgbm_{DATASET}.yaml\") as fp:\n",
    "    config = yaml.safe_load(fp)"
   ]
  },
  {
   "cell_type": "code",
   "execution_count": null,
   "id": "1c38e539",
   "metadata": {},
   "outputs": [],
   "source": [
    "qlib.init(**config.get(\"qlib_init\"))"
   ]
  },
  {
   "cell_type": "markdown",
   "id": "9053c1de",
   "metadata": {},
   "source": [
    "## Full feature"
   ]
  },
  {
   "cell_type": "code",
   "execution_count": null,
   "id": "44aab53b",
   "metadata": {},
   "outputs": [],
   "source": [
    "full_task = deepcopy(config.get('task'))\n",
    "\n",
    "full_task['dataset']['kwargs']['handler']['kwargs']['infer_processors'] = [{\n",
    "    \"class\": \"FilterCol\",\n",
    "    \"kwargs\": {\n",
    "        \"fields_group\": \"feature\",\n",
    "        \"col_list\": df.columns[df.columns.str.contains(\"CLOSE\")].to_list()\n",
    "    },\n",
    "}]\n",
    "\n",
    "recorder_full = task_train(deepcopy(config.get('task')), experiment_name=exp_name)"
   ]
  },
  {
   "cell_type": "markdown",
   "id": "c25cf81d",
   "metadata": {},
   "source": [
    "## Causal Feature"
   ]
  },
  {
   "cell_type": "code",
   "execution_count": null,
   "id": "344ef431",
   "metadata": {},
   "outputs": [],
   "source": [
    "causal_task = deepcopy(config.get('task'))\n",
    "\n",
    "causal_task['dataset']['kwargs']['handler']['kwargs']['infer_processors'] = [{\n",
    "    \"class\": \"FilterCol\",\n",
    "    \"kwargs\": {\n",
    "        \"fields_group\": \"feature\",\n",
    "        \"col_list\": cause_s_top.index.to_list()\n",
    "    },\n",
    "}]\n",
    "\n",
    "recorder_cause = task_train(causal_task, experiment_name=exp_name)"
   ]
  },
  {
   "cell_type": "markdown",
   "id": "438dad47",
   "metadata": {},
   "source": [
    "## SHAP feature"
   ]
  },
  {
   "cell_type": "code",
   "execution_count": null,
   "id": "d1feb4d1",
   "metadata": {},
   "outputs": [],
   "source": [
    "shap_task = deepcopy(config.get('task'))"
   ]
  },
  {
   "cell_type": "code",
   "execution_count": null,
   "id": "9a6d1daf",
   "metadata": {},
   "outputs": [],
   "source": [
    "shap_task['dataset']['kwargs']['handler']['kwargs']['infer_processors'] = [{\n",
    "    \"class\": \"FilterCol\",\n",
    "    \"kwargs\": {\n",
    "        \"fields_group\": \"feature\",\n",
    "        \"col_list\": shap_s_top.index.to_list()\n",
    "    },\n",
    "}]"
   ]
  },
  {
   "cell_type": "code",
   "execution_count": null,
   "id": "4d6b5ab9",
   "metadata": {},
   "outputs": [],
   "source": [
    "recorder_shap = task_train(shap_task, experiment_name=exp_name)"
   ]
  },
  {
   "cell_type": "markdown",
   "id": "e375bd20",
   "metadata": {},
   "source": [
    "## Random"
   ]
  },
  {
   "cell_type": "code",
   "execution_count": null,
   "id": "23486d4c",
   "metadata": {},
   "outputs": [],
   "source": [
    "rand_task = deepcopy(config.get('task'))\n",
    "\n",
    "rand_task['dataset']['kwargs']['handler']['kwargs']['infer_processors'] = [{\n",
    "    \"class\": \"FilterCol\",\n",
    "    \"kwargs\": {\n",
    "        \"fields_group\": \"feature\",\n",
    "        \"col_list\": cause_s.index.to_series().sample(10).to_list()\n",
    "    },\n",
    "}]\n",
    "\n",
    "recorder_rand = task_train(rand_task, experiment_name=exp_name)"
   ]
  },
  {
   "cell_type": "markdown",
   "id": "d2378b60",
   "metadata": {},
   "source": [
    "## compare"
   ]
  },
  {
   "cell_type": "code",
   "execution_count": null,
   "id": "734540f0",
   "metadata": {},
   "outputs": [],
   "source": [
    "cmp_res = {}"
   ]
  },
  {
   "cell_type": "code",
   "execution_count": null,
   "id": "daaa77c8",
   "metadata": {},
   "outputs": [],
   "source": [
    "for name, rec in [('full', recorder_full), ('causal', recorder_cause), ('SHAP', recorder_shap), ('rand', recorder_rand)]:\n",
    "    cmp_res[name] = {\"IC\": rec.load_object('sig_analysis/ic.pkl').mean(), \"Rank IC \": rec.load_object('sig_analysis/ric.pkl').mean()}"
   ]
  },
  {
   "cell_type": "code",
   "execution_count": null,
   "id": "6659e3a8",
   "metadata": {},
   "outputs": [],
   "source": [
    "pd.DataFrame(cmp_res).plot(kind='bar')"
   ]
  }
 ],
 "metadata": {
  "jupytext": {
   "cell_metadata_filter": "-all",
   "formats": "auto:light,ipynb",
   "notebook_metadata_filter": "-all"
  },
  "kernelspec": {
   "display_name": "Python 3 (ipykernel)",
   "language": "python",
   "name": "python3"
  },
  "language_info": {
   "codemirror_mode": {
    "name": "ipython",
    "version": 3
   },
   "file_extension": ".py",
   "mimetype": "text/x-python",
   "name": "python",
   "nbconvert_exporter": "python",
   "pygments_lexer": "ipython3"
  },
  "toc": {
   "base_numbering": 1,
   "nav_menu": {},
   "number_sections": true,
   "sideBar": true,
   "skip_h1_title": false,
   "title_cell": "Table of Contents",
   "title_sidebar": "Contents",
   "toc_cell": false,
   "toc_position": {},
   "toc_section_display": true,
   "toc_window_display": false
  }
 },
 "nbformat": 4,
 "nbformat_minor": 5
}
